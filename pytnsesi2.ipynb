{
 "cells": [
  {
   "cell_type": "code",
   "execution_count": 1,
   "id": "91354776",
   "metadata": {},
   "outputs": [
    {
     "name": "stdout",
     "output_type": "stream",
     "text": [
      "no\n"
     ]
    }
   ],
   "source": [
    "x=0\n",
    "y=7\n",
    "if x>y:\n",
    "    print(\"yes\")\n",
    "if x<y:\n",
    "    print(\"no\")"
   ]
  },
  {
   "cell_type": "code",
   "execution_count": 2,
   "id": "129cbe9b",
   "metadata": {},
   "outputs": [
    {
     "ename": "SyntaxError",
     "evalue": "invalid syntax (<ipython-input-2-2a7286924f95>, line 3)",
     "output_type": "error",
     "traceback": [
      "\u001b[1;36m  File \u001b[1;32m\"<ipython-input-2-2a7286924f95>\"\u001b[1;36m, line \u001b[1;32m3\u001b[0m\n\u001b[1;33m    if x=y:\u001b[0m\n\u001b[1;37m        ^\u001b[0m\n\u001b[1;31mSyntaxError\u001b[0m\u001b[1;31m:\u001b[0m invalid syntax\n"
     ]
    }
   ],
   "source": [
    "x=2\n",
    "y=x\n",
    "if x=y:\n",
    "    print (\"yes\")"
   ]
  },
  {
   "cell_type": "code",
   "execution_count": 23,
   "id": "89fb67b0",
   "metadata": {},
   "outputs": [
    {
     "ename": "SyntaxError",
     "evalue": "invalid syntax (<ipython-input-23-129a4c7fb627>, line 4)",
     "output_type": "error",
     "traceback": [
      "\u001b[1;36m  File \u001b[1;32m\"<ipython-input-23-129a4c7fb627>\"\u001b[1;36m, line \u001b[1;32m4\u001b[0m\n\u001b[1;33m    if y%x=0:\u001b[0m\n\u001b[1;37m          ^\u001b[0m\n\u001b[1;31mSyntaxError\u001b[0m\u001b[1;31m:\u001b[0m invalid syntax\n"
     ]
    }
   ],
   "source": [
    "x=7\n",
    "y=14\n",
    "\n",
    "if y%x=0:\n",
    "    print(\"y kelipatan x\")"
   ]
  },
  {
   "cell_type": "code",
   "execution_count": 26,
   "id": "be3f9cf8",
   "metadata": {},
   "outputs": [
    {
     "name": "stdout",
     "output_type": "stream",
     "text": [
      "y kelipatan x\n"
     ]
    }
   ],
   "source": [
    "x=7\n",
    "y=14\n",
    "\n",
    "if 0<=y%x<=0:\n",
    "    print(\"y kelipatan x\")"
   ]
  },
  {
   "cell_type": "code",
   "execution_count": null,
   "id": "90be5673",
   "metadata": {},
   "outputs": [],
   "source": [
    "x=10\n",
    "if 0<=x%2<=0:#harus pake squeeze theorem?\n",
    "    print(\"x genap\")"
   ]
  },
  {
   "cell_type": "markdown",
   "id": "ca6f0711",
   "metadata": {},
   "source": [
    "## If Else"
   ]
  },
  {
   "cell_type": "code",
   "execution_count": 22,
   "id": "0182f418",
   "metadata": {},
   "outputs": [
    {
     "name": "stdout",
     "output_type": "stream",
     "text": [
      "x ganjil\n"
     ]
    }
   ],
   "source": [
    "x=9\n",
    "if 0<=x%2<=0:#harus pake squeeze theorem?\n",
    "    print(\"x genap\")\n",
    "else:\n",
    "    print(\"x ganjil\")"
   ]
  },
  {
   "cell_type": "code",
   "execution_count": 37,
   "id": "550aa4c5",
   "metadata": {},
   "outputs": [
    {
     "name": "stdout",
     "output_type": "stream",
     "text": [
      "x ganjil\n"
     ]
    }
   ],
   "source": [
    "x=9\n",
    "if x%2==0:#pake ==\n",
    "    print(\"x genap\")\n",
    "else:\n",
    "    print(\"x ganjil\")"
   ]
  },
  {
   "cell_type": "markdown",
   "id": "253ed4a1",
   "metadata": {},
   "source": [
    "## elif harus antara if dan else, trs boleh lebih dari 1"
   ]
  },
  {
   "cell_type": "code",
   "execution_count": 32,
   "id": "f39c0f65",
   "metadata": {},
   "outputs": [
    {
     "name": "stdout",
     "output_type": "stream",
     "text": [
      "TIDAK LULUS\n"
     ]
    }
   ],
   "source": [
    "nilai=20\n",
    "if nilai>80:\n",
    "    print(\"A\")\n",
    "elif nilai>60:\n",
    "    print(\"B\")\n",
    "elif nilai>40:\n",
    "    print(\"C\")\n",
    "elif nilai>30:\n",
    "    print(\"D\")\n",
    "else: \n",
    "    print(\"TIDAK LULUS\")"
   ]
  },
  {
   "cell_type": "code",
   "execution_count": 34,
   "id": "ba0bac13",
   "metadata": {},
   "outputs": [
    {
     "name": "stdout",
     "output_type": "stream",
     "text": [
      "Salah Input\n"
     ]
    }
   ],
   "source": [
    "nilai=101\n",
    "if nilai>100:\n",
    "    print(\"Salah Input\")\n",
    "elif nilai>80:\n",
    "    print(\"A\")\n",
    "elif nilai>60:\n",
    "    print(\"B\")\n",
    "elif nilai>40:\n",
    "    print(\"C\")\n",
    "elif nilai>30:\n",
    "    print(\"D\")\n",
    "else: \n",
    "    print(\"TIDAK LULUS\")"
   ]
  },
  {
   "cell_type": "markdown",
   "id": "f8002290",
   "metadata": {},
   "source": [
    "## Ternary"
   ]
  },
  {
   "cell_type": "code",
   "execution_count": null,
   "id": "06191a58",
   "metadata": {},
   "outputs": [],
   "source": [
    "x=true\n"
   ]
  },
  {
   "cell_type": "markdown",
   "id": "3060cb4f",
   "metadata": {},
   "source": [
    "## PASS\n",
    "buat kalo mau gk diapa apain"
   ]
  },
  {
   "cell_type": "code",
   "execution_count": 38,
   "id": "9ac50ece",
   "metadata": {},
   "outputs": [],
   "source": [
    "x=9\n",
    "if x%2==0:#pake ==\n",
    "    print(\"x genap\")\n",
    "else:\n",
    "    pass"
   ]
  },
  {
   "cell_type": "markdown",
   "id": "c1e6c26f",
   "metadata": {},
   "source": [
    "## While LOOP"
   ]
  },
  {
   "cell_type": "code",
   "execution_count": 41,
   "id": "a66d2b75",
   "metadata": {},
   "outputs": [
    {
     "name": "stdout",
     "output_type": "stream",
     "text": [
      "Kelas 0\n",
      "Kelas 1\n",
      "Kelas 2\n",
      "Kelas 3\n",
      "Kelas 4\n",
      "Kelas 5\n",
      "Kelas 6\n",
      "Kelas 7\n",
      "Kelas 8\n",
      "Kelas 9\n",
      "Kelas 10\n",
      "Kelas 11\n",
      "Kelas 12\n",
      "Kelas 13\n",
      "Kelas 14\n",
      "Kelas 15\n"
     ]
    }
   ],
   "source": [
    "counter = 0\n",
    "while counter<16:\n",
    "    print(\"Kelas\", counter)\n",
    "    counter=counter+1"
   ]
  },
  {
   "cell_type": "code",
   "execution_count": null,
   "id": "dfaba7cb",
   "metadata": {},
   "outputs": [],
   "source": []
  }
 ],
 "metadata": {
  "kernelspec": {
   "display_name": "Python 3",
   "language": "python",
   "name": "python3"
  },
  "language_info": {
   "codemirror_mode": {
    "name": "ipython",
    "version": 3
   },
   "file_extension": ".py",
   "mimetype": "text/x-python",
   "name": "python",
   "nbconvert_exporter": "python",
   "pygments_lexer": "ipython3",
   "version": "3.8.8"
  }
 },
 "nbformat": 4,
 "nbformat_minor": 5
}
