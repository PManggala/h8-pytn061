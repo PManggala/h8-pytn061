{
 "cells": [
  {
   "cell_type": "markdown",
   "id": "1cfeb9c8",
   "metadata": {},
   "source": [
    "## Function"
   ]
  },
  {
   "cell_type": "code",
   "execution_count": 1,
   "id": "0d52a0c0",
   "metadata": {},
   "outputs": [],
   "source": [
    "def namafungsi():\n",
    "    \"kodenya disini\""
   ]
  },
  {
   "cell_type": "markdown",
   "id": "6f0e7e3d",
   "metadata": {},
   "source": [
    "parameter"
   ]
  },
  {
   "cell_type": "code",
   "execution_count": null,
   "id": "5ed0a54b",
   "metadata": {},
   "outputs": [],
   "source": [
    "def namafungsi(variable_disini):\n",
    "    \"kodenya disini\""
   ]
  },
  {
   "cell_type": "markdown",
   "id": "0f2c6823",
   "metadata": {},
   "source": [
    "return"
   ]
  },
  {
   "cell_type": "code",
   "execution_count": 2,
   "id": "6de15a07",
   "metadata": {},
   "outputs": [
    {
     "ename": "TypeError",
     "evalue": "namafungsi() takes 0 positional arguments but 1 was given",
     "output_type": "error",
     "traceback": [
      "\u001b[1;31m---------------------------------------------------------------------------\u001b[0m",
      "\u001b[1;31mTypeError\u001b[0m                                 Traceback (most recent call last)",
      "\u001b[1;32m<ipython-input-2-ba8a0af32651>\u001b[0m in \u001b[0;36m<module>\u001b[1;34m\u001b[0m\n\u001b[1;32m----> 1\u001b[1;33m \u001b[0mprint\u001b[0m\u001b[1;33m(\u001b[0m\u001b[0mnamafungsi\u001b[0m\u001b[1;33m(\u001b[0m\u001b[1;34m\"1\"\u001b[0m\u001b[1;33m)\u001b[0m\u001b[1;33m)\u001b[0m\u001b[1;33m\u001b[0m\u001b[1;33m\u001b[0m\u001b[0m\n\u001b[0m",
      "\u001b[1;31mTypeError\u001b[0m: namafungsi() takes 0 positional arguments but 1 was given"
     ]
    }
   ],
   "source": [
    "print(namafungsi(\"1\"))"
   ]
  },
  {
   "cell_type": "code",
   "execution_count": 5,
   "id": "2a978a97",
   "metadata": {},
   "outputs": [],
   "source": [
    "def menulis(nama, waktu):\n",
    "    return \"selamat\"  + waktu + \" \" + nama"
   ]
  },
  {
   "cell_type": "code",
   "execution_count": 6,
   "id": "a0a55dac",
   "metadata": {},
   "outputs": [
    {
     "name": "stdout",
     "output_type": "stream",
     "text": [
      "selamatsore adi\n"
     ]
    }
   ],
   "source": [
    "print(menulis(\"adi\",\"sore\"))"
   ]
  },
  {
   "cell_type": "code",
   "execution_count": 9,
   "id": "c200f52b",
   "metadata": {},
   "outputs": [],
   "source": [
    "def cekganjilgenap(num):\n",
    "    if(num%2==0):\n",
    "        return(\"genap\")\n",
    "    else:\n",
    "        return(\"ganjil\")"
   ]
  },
  {
   "cell_type": "code",
   "execution_count": 11,
   "id": "d42618dd",
   "metadata": {},
   "outputs": [
    {
     "name": "stdout",
     "output_type": "stream",
     "text": [
      "ganjil\n"
     ]
    }
   ],
   "source": [
    "print(cekganjilgenap(21049835))"
   ]
  },
  {
   "cell_type": "code",
   "execution_count": 12,
   "id": "55885e27",
   "metadata": {},
   "outputs": [
    {
     "name": "stdout",
     "output_type": "stream",
     "text": [
      "kena tilang\n"
     ]
    }
   ],
   "source": [
    "hari_ini = \"genap\"\n",
    "if (hari_ini!=cekganjilgenap(1787)):\n",
    "    print(\"kena tilang\")"
   ]
  },
  {
   "cell_type": "markdown",
   "id": "a6cc8b77",
   "metadata": {},
   "source": [
    "pass by reference, pass by value"
   ]
  },
  {
   "cell_type": "code",
   "execution_count": 13,
   "id": "c1f9f968",
   "metadata": {},
   "outputs": [
    {
     "name": "stdout",
     "output_type": "stream",
     "text": [
      "100\n"
     ]
    }
   ],
   "source": [
    "a=100\n",
    "\n",
    "def perkalian(num1, num2):\n",
    "    return num1*num2\n",
    "\n",
    "perkalian(a,a)\n",
    "print(a) #pass by value, karena data di a itu simple"
   ]
  },
  {
   "cell_type": "code",
   "execution_count": 15,
   "id": "1bce56a7",
   "metadata": {},
   "outputs": [
    {
     "name": "stdout",
     "output_type": "stream",
     "text": [
      "['apel', 'pisang', 'jeruk', 'duku']\n"
     ]
    }
   ],
   "source": [
    "listbuah=[\"apel\", \"pisang\", \"jeruk\"]\n",
    "\n",
    "def nambah(l, b):\n",
    "    l.append(b)\n",
    "    \n",
    "nambah(listbuah, \"duku\")\n",
    "\n",
    "print(listbuah) #pass by reference"
   ]
  },
  {
   "cell_type": "code",
   "execution_count": 16,
   "id": "bca72688",
   "metadata": {},
   "outputs": [
    {
     "name": "stdout",
     "output_type": "stream",
     "text": [
      "['apel', 'pisang', 'jeruk']\n",
      "['apel', 'pisang', 'jeruk', 'duku']\n",
      "['apel', 'pisang', 'jeruk']\n"
     ]
    }
   ],
   "source": [
    "listbuah=[\"apel\", \"pisang\", \"jeruk\"]\n",
    "\n",
    "def nambah(l, b):\n",
    "    l_baru=[]\n",
    "    for item in l:\n",
    "        l_baru.append(item)\n",
    "    print(l_baru)\n",
    "    l_baru.append(b)\n",
    "    print(l_baru)\n",
    "    \n",
    "nambah(listbuah, \"duku\")\n",
    "\n",
    "print(listbuah)"
   ]
  },
  {
   "cell_type": "markdown",
   "id": "006aa3eb",
   "metadata": {},
   "source": [
    "## function arguments"
   ]
  },
  {
   "cell_type": "code",
   "execution_count": 17,
   "id": "a9e19cd7",
   "metadata": {},
   "outputs": [
    {
     "ename": "TypeError",
     "evalue": "hello() missing 2 required positional arguments: 'nama' and 'waktu'",
     "output_type": "error",
     "traceback": [
      "\u001b[1;31m---------------------------------------------------------------------------\u001b[0m",
      "\u001b[1;31mTypeError\u001b[0m                                 Traceback (most recent call last)",
      "\u001b[1;32m<ipython-input-17-4044b017de08>\u001b[0m in \u001b[0;36m<module>\u001b[1;34m\u001b[0m\n\u001b[0;32m      3\u001b[0m     \u001b[0mprint\u001b[0m\u001b[1;33m(\u001b[0m\u001b[1;34m\"selamat\"\u001b[0m\u001b[1;33m,\u001b[0m \u001b[0mwaktu\u001b[0m\u001b[1;33m,\u001b[0m \u001b[0mnama\u001b[0m\u001b[1;33m)\u001b[0m\u001b[1;33m\u001b[0m\u001b[1;33m\u001b[0m\u001b[0m\n\u001b[0;32m      4\u001b[0m \u001b[1;33m\u001b[0m\u001b[0m\n\u001b[1;32m----> 5\u001b[1;33m \u001b[0mhello\u001b[0m\u001b[1;33m(\u001b[0m\u001b[1;33m)\u001b[0m\u001b[1;33m\u001b[0m\u001b[1;33m\u001b[0m\u001b[0m\n\u001b[0m",
      "\u001b[1;31mTypeError\u001b[0m: hello() missing 2 required positional arguments: 'nama' and 'waktu'"
     ]
    }
   ],
   "source": [
    "#required arguement\n",
    "def hello(nama, waktu):\n",
    "    print(\"selamat\", waktu, nama)\n",
    "    \n",
    "hello() #hrs ada"
   ]
  },
  {
   "cell_type": "code",
   "execution_count": 18,
   "id": "e3fcd5f7",
   "metadata": {},
   "outputs": [
    {
     "name": "stdout",
     "output_type": "stream",
     "text": [
      "selamat pagi rigme\n"
     ]
    }
   ],
   "source": [
    "def hello(nama, waktu):\n",
    "    print(\"selamat\", waktu, nama)\n",
    "    \n",
    "hello(waktu=\"pagi\", nama=\"rigme\") #masih urut"
   ]
  },
  {
   "cell_type": "code",
   "execution_count": 20,
   "id": "0318c10d",
   "metadata": {},
   "outputs": [
    {
     "name": "stdout",
     "output_type": "stream",
     "text": [
      "selamat malam andi\n",
      "selamat malam skmvw\n",
      "selamat wfmie malam\n"
     ]
    }
   ],
   "source": [
    "def hello(nama=\"andi\", waktu=\"malam\"):\n",
    "    print(\"selamat\", waktu, nama)\n",
    "    \n",
    "hello()\n",
    "hello (\"skmvw\")\n",
    "hello (\"malam\", \"wfmie\")"
   ]
  },
  {
   "cell_type": "code",
   "execution_count": 22,
   "id": "001e9832",
   "metadata": {},
   "outputs": [
    {
     "name": "stdout",
     "output_type": "stream",
     "text": [
      "('adi', 'budi', 'siapapun itu')\n",
      "selamat sore adi\n",
      "selamat sore budi\n",
      "selamat sore siapapun itu\n"
     ]
    }
   ],
   "source": [
    "def hello(waktu, *nama):\n",
    "    print(nama)\n",
    "    for n in nama:\n",
    "        print(\"selamat\", waktu, n)\n",
    "        \n",
    "hello(\"sore\", \"adi\", \"budi\", \"siapapun itu\")"
   ]
  },
  {
   "cell_type": "code",
   "execution_count": 24,
   "id": "6a42f602",
   "metadata": {},
   "outputs": [
    {
     "data": {
      "text/plain": [
       "8"
      ]
     },
     "execution_count": 24,
     "metadata": {},
     "output_type": "execute_result"
    }
   ],
   "source": [
    "#fungsi yang gk ada nama\n",
    "sum=lambda arg1, arg2: arg1+arg2;\n",
    "\n",
    "sum(3,5)\n"
   ]
  },
  {
   "cell_type": "markdown",
   "id": "469b2f69",
   "metadata": {},
   "source": [
    "scope of varible (batasan variable)"
   ]
  },
  {
   "cell_type": "markdown",
   "id": "820d64f2",
   "metadata": {},
   "source": [
    "module ->.py, nanti bisa import modulenya"
   ]
  },
  {
   "cell_type": "code",
   "execution_count": 26,
   "id": "ce0533c6",
   "metadata": {},
   "outputs": [
    {
     "name": "stdout",
     "output_type": "stream",
     "text": [
      "Note: you may need to restart the kernel to use updated packages.\n"
     ]
    },
    {
     "name": "stderr",
     "output_type": "stream",
     "text": [
      "'C:\\Users\\Prajna' is not recognized as an internal or external command,\n",
      "operable program or batch file.\n"
     ]
    }
   ],
   "source": [
    "pip help"
   ]
  },
  {
   "cell_type": "code",
   "execution_count": 27,
   "id": "80695c4a",
   "metadata": {},
   "outputs": [
    {
     "name": "stdout",
     "output_type": "stream",
     "text": [
      "Note: you may need to restart the kernel to use updated packages.\n"
     ]
    },
    {
     "name": "stderr",
     "output_type": "stream",
     "text": [
      "'C:\\Users\\Prajna' is not recognized as an internal or external command,\n",
      "operable program or batch file.\n"
     ]
    }
   ],
   "source": [
    "pip install requests"
   ]
  },
  {
   "cell_type": "code",
   "execution_count": null,
   "id": "8ba145fa",
   "metadata": {},
   "outputs": [],
   "source": []
  }
 ],
 "metadata": {
  "kernelspec": {
   "display_name": "Python 3",
   "language": "python",
   "name": "python3"
  },
  "language_info": {
   "codemirror_mode": {
    "name": "ipython",
    "version": 3
   },
   "file_extension": ".py",
   "mimetype": "text/x-python",
   "name": "python",
   "nbconvert_exporter": "python",
   "pygments_lexer": "ipython3",
   "version": "3.8.8"
  }
 },
 "nbformat": 4,
 "nbformat_minor": 5
}
